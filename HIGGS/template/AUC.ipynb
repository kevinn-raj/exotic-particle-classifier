{
 "cells": [
  {
   "cell_type": "code",
   "execution_count": 6,
   "metadata": {},
   "outputs": [
    {
     "name": "stdout",
     "output_type": "stream",
     "text": [
      "highlevel\n",
      "Loading data\n",
      "Loading Time : 93.0059s\n",
      "10999999/10999999 [==============================] - 316s   \n",
      "\n",
      " AUC: 0.795210069457\n"
     ]
    }
   ],
   "source": [
    "import keras\n",
    "from sklearn import metrics\n",
    "import pandas as pd\n",
    "import time\n",
    "import sys\n",
    "\n",
    "benchmark = \"highlevel\"\n",
    "usecols = []\n",
    "\n",
    "# Column to load according to benchmark\n",
    "# data range is 0 to 28 for Higgs.\n",
    "# 21 low-level features & 7 high-level features\n",
    "# and the column 0 is for the label\n",
    "all_n = 28  # total features\n",
    "raw_n = 21  # raw features\n",
    "high_n = 7  # highlevel features\n",
    "\n",
    "# validation split: number of instances used for validation\n",
    "\n",
    "validation_split = 20 / 100\n",
    "\n",
    "# list(range(a, b+1)) returns an array of [a, ..., b]\n",
    "# usecols points to the columns to use\n",
    "# column 0 is always loaded\n",
    "if benchmark is \"raw\":\n",
    "    # [1, .., 21] ===> 21 items\n",
    "    # ===> [0,1, ..., 21]\n",
    "    usecols = [0] + list(range(1, raw_n + 1))\n",
    "    input_n = raw_n\n",
    "elif benchmark is \"highlevel\":\n",
    "    # [22, ..., 28] ===> 7 items\n",
    "    # [0,22, ..., 28]\n",
    "    usecols = [0] + list(range(raw_n + 1, all_n + 1))\n",
    "    input_n = high_n\n",
    "elif benchmark is \"all\":\n",
    "    # [1, ..., 28] ===> 28 items\n",
    "    # [0,1, ..., 28]\n",
    "    usecols = [0] + list(range(1, all_n + 1))\n",
    "    input_n = all_n\n",
    "\n",
    "print(benchmark)\n",
    "\n",
    "if __name__ == '__main__':\n",
    "    # Model\n",
    "    model_name = \"TANH_model_HIGGS_layers4_Epoch20_width128_do0.01_highlevel.h5\"\n",
    "    # model_home = r\"F:\\Documents\\Memoir\\Datas\\process\\saves\\HIGGS\\\\\"\n",
    "    model_path = r\"F:\\Documents\\Memoir\\Datas\\process\\saves\\HIGGS\\\\\" + model_name\n",
    "    model = keras.models.load_model(filepath=model_path)\n",
    "\n",
    "    # Data\n",
    "    print(\"Loading data\")\n",
    "    t = time.time()\n",
    "    datas = pd.read_csv(filepath_or_buffer=r\"F:\\Documents\\Memoir\\Datas\\HIGGS.csv.gz\",\n",
    "                        low_memory=True, compression=\"gzip\", usecols=usecols,\n",
    "                        na_filter=False)\n",
    "\n",
    "    print(\"Loading Time : {:6.6}s\".format(time.time() - t))\n",
    "\n",
    "    x = datas.iloc[:, 1:].as_matrix()\n",
    "    y = datas.iloc[:, 0].as_matrix()\n",
    "\n",
    "    # evaluate\n",
    "    # ev = model.evaluate(x, y)\n",
    "    # print('evaluate ', ev[0], ev[1])\n",
    "\n",
    "    # predict\n",
    "    pred = model.predict(x, verbose=1)[:, 0]\n",
    "\n",
    "    # Compute AUC-ROC (Area Under Curve - Receiver Operating Characteristics)\n",
    "    # fpr (false positive recall), tpr (true positive recall)\n",
    "    fpr, tpr, thresholds = metrics.roc_curve(y, pred)\n",
    "    auc = metrics.auc(fpr, tpr)\n",
    "    print('\\n AUC:', auc)\n"
   ]
  },
  {
   "cell_type": "code",
   "execution_count": null,
   "metadata": {},
   "outputs": [],
   "source": []
  }
 ],
 "metadata": {
  "kernelspec": {
   "display_name": "Python 3",
   "language": "python",
   "name": "python3"
  },
  "language_info": {
   "codemirror_mode": {
    "name": "ipython",
    "version": 3
   },
   "file_extension": ".py",
   "mimetype": "text/x-python",
   "name": "python",
   "nbconvert_exporter": "python",
   "pygments_lexer": "ipython3",
   "version": "3.5.4"
  }
 },
 "nbformat": 4,
 "nbformat_minor": 2
}
