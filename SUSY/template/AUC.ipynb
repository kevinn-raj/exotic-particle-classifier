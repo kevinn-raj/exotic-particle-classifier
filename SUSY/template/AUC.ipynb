{
 "cells": [
  {
   "cell_type": "code",
   "execution_count": 1,
   "metadata": {
    "scrolled": true
   },
   "outputs": [
    {
     "name": "stderr",
     "output_type": "stream",
     "text": [
      "Using TensorFlow backend.\n"
     ]
    },
    {
     "name": "stdout",
     "output_type": "stream",
     "text": [
      "all\n",
      "Loading data\n",
      "Loading Time : 38.0417s\n",
      "4999999/4999999 [==============================] - 125s   \n",
      "\n",
      " AUC: 0.876739342211\n"
     ]
    }
   ],
   "source": [
    "import keras\n",
    "from sklearn import metrics\n",
    "import pandas as pd\n",
    "import time\n",
    "\n",
    "benchmark = \"all\"\n",
    "usecols = []\n",
    "\n",
    "# Column to load according to benchmark\n",
    "# data range is 0 to 18 for SUSY.\n",
    "# 8 low-level features & 10 high-level features\n",
    "# and the column 0 is for the label\n",
    "all_n = 18  # total features\n",
    "raw_n = 8  # raw features\n",
    "high_n = 10  # highlevel features\n",
    "\n",
    "# validation split: number of instances used for validation\n",
    "\n",
    "validation_split = 20 / 100\n",
    "\n",
    "# list(range(a, b+1)) returns an array of [a, ..., b]\n",
    "# usecols points to the columns to use\n",
    "# column 0 is always loaded\n",
    "if benchmark is \"raw\":\n",
    "    # [1, .., 8] ===> 8 items\n",
    "    usecols = [0] + list(range(1, raw_n + 1))\n",
    "    input_n = raw_n\n",
    "elif benchmark is \"highlevel\":\n",
    "    # [9, ..., 18] ===> 10 items\n",
    "    usecols = [0] + list(range(raw_n + 1, all_n + 1))\n",
    "    input_n = high_n\n",
    "elif benchmark is \"all\":\n",
    "    # [1, ..., 18] ===> 18 items\n",
    "    usecols = [0] + list(range(1, all_n + 1))\n",
    "    input_n = all_n\n",
    "\n",
    "# ONLY for Split (chunk) datas \"split_datas\\SUSY\\\"\n",
    "# DELETE if using the original data from UCI\n",
    "# usecols = [i + 1 for i in usecols]\n",
    "print(benchmark)\n",
    "\n",
    "if __name__ == '__main__':\n",
    "    # Data\n",
    "    print(\"Loading data\")\n",
    "    t = time.time()\n",
    "    tables = []\n",
    "    datas = pd.read_csv(filepath_or_buffer=r\"F:\\Documents\\Memoir\\Datas\\SUSY.csv.gz\",\n",
    "                        low_memory=True, compression=\"gzip\", usecols=usecols,\n",
    "                        na_filter=False)\n",
    "\n",
    "    print(\"Loading Time : {:6.6}s\".format(time.time() - t))\n",
    "\n",
    "    x = datas.iloc[:, 1:].as_matrix()\n",
    "    y = datas.iloc[:, 0].as_matrix()\n",
    "\n",
    "    # Model\n",
    "    # model_path = sys.argv[1]\n",
    "    model_path = r'F:\\Documents\\Memoir\\Datas\\process\\saves\\SUSY\\\\' + \\\n",
    "                 'TANH_model_SUSY_layers4_Epoch20_width128_do0.01_all.h5'\n",
    "    model = keras.models.load_model(filepath=model_path)\n",
    "\n",
    "    # evaluate\n",
    "    # ev = model.evaluate(x, y)\n",
    "    # print('evaluate ', ev[0], ev[1])\n",
    "\n",
    "    # predict\n",
    "    pred = model.predict(x, verbose=1)[:, 0]\n",
    "\n",
    "    # Compute AUC-ROC (Area Under Curve - Receiver Operating Characteristics)\n",
    "    # fpr (false positive recall), tpr (true positive recall)\n",
    "    fpr, tpr, thresholds = metrics.roc_curve(y, pred)\n",
    "    auc = metrics.auc(fpr, tpr)\n",
    "    print('\\n AUC:', auc)\n"
   ]
  },
  {
   "cell_type": "code",
   "execution_count": 8,
   "metadata": {
    "scrolled": true
   },
   "outputs": [
    {
     "data": {
      "image/png": "[encoded data removed]",
      "text/plain": [
       "<matplotlib.figure.Figure at 0x2519d58e7f0>"
      ]
     },
     "metadata": {},
     "output_type": "display_data"
    },
    {
     "data": {
      "image/png": "[encoded data removed]",
      "text/plain": [
       "<matplotlib.figure.Figure at 0x2519d5934a8>"
      ]
     },
     "metadata": {},
     "output_type": "display_data"
    }
   ],
   "source": [
    "from matplotlib import pyplot as plt\n",
    "fig = plt.figure()\n",
    "plt.plot(fpr, tpr)\n",
    "plt.title('ROC')\n",
    "fig.savefig(r'F:\\ROC')\n",
    "fig1 = plt.figure()\n",
    "plt.plot(thresholds, tpr)\n",
    "plt.title('TPR')\n",
    "fig1.savefig(r'F:\\tpr')"
   ]
  },
  {
   "cell_type": "code",
   "execution_count": 13,
   "metadata": {
    "scrolled": true
   },
   "outputs": [],
   "source": [
    "path = r'F:\\Documents\\Memoir\\Datas\\process\\predictions\\PREDICTIONS_'\n",
    "name = r'TANH_model_SUSY_layers4_Epoch20_width128_do0.01_all' + '.csv'\n",
    "pd.DataFrame(pred).to_csv(path + name, header=False, index=False)"
   ]
  },
  {
   "cell_type": "code",
   "execution_count": 35,
   "metadata": {},
   "outputs": [
    {
     "ename": "IndexError",
     "evalue": "tuple index out of range",
     "output_type": "error",
     "traceback": [
      "\u001b[1;31m---------------------------------------------------------------------------\u001b[0m",
      "\u001b[1;31mIndexError\u001b[0m                                Traceback (most recent call last)",
      "\u001b[1;32m<ipython-input-35-5614ec622464>\u001b[0m in \u001b[0;36m<module>\u001b[1;34m()\u001b[0m\n\u001b[0;32m      1\u001b[0m pd.DataFrame(y).to_csv(r'F:\\Documents\\Memoir\\Datas\\process\\predictions\\label.csv', \n\u001b[1;32m----> 2\u001b[1;33m                        header=False, index=False, float_format='{.4f}'.format())\n\u001b[0m",
      "\u001b[1;31mIndexError\u001b[0m: tuple index out of range"
     ]
    }
   ],
   "source": [
    "pd.DataFrame(y).to_csv(r'F:\\Documents\\Memoir\\Datas\\process\\predictions\\label.csv', \n",
    "                       header=False, index=False, float_format='{.4f}'.format())"
   ]
  },
  {
   "cell_type": "code",
   "execution_count": null,
   "metadata": {},
   "outputs": [],
   "source": []
  }
 ],
 "metadata": {
  "kernelspec": {
   "display_name": "Python 3",
   "language": "python",
   "name": "python3"
  },
  "language_info": {
   "codemirror_mode": {
    "name": "ipython",
    "version": 3
   },
   "file_extension": ".py",
   "mimetype": "text/x-python",
   "name": "python",
   "nbconvert_exporter": "python",
   "pygments_lexer": "ipython3",
   "version": "3.5.4"
  }
 },
 "nbformat": 4,
 "nbformat_minor": 2
}
